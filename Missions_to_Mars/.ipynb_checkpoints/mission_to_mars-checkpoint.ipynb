{
 "cells": [
  {
   "cell_type": "code",
   "execution_count": 3,
   "metadata": {},
   "outputs": [],
   "source": [
    "#Dependencies\n",
    "from splinter import Browser\n",
    "from bs4 import BeautifulSoup"
   ]
  },
  {
   "cell_type": "code",
   "execution_count": 4,
   "metadata": {},
   "outputs": [],
   "source": [
    "executable_path = {'executable_path': 'chromedriver.exe'}\n",
    "browser = Browser('chrome', **executable_path, headless=False)"
   ]
  },
  {
   "cell_type": "markdown",
   "metadata": {},
   "source": [
    "# Step 1 - Scraping"
   ]
  },
  {
   "cell_type": "markdown",
   "metadata": {},
   "source": [
    "NASA Mars News"
   ]
  },
  {
   "cell_type": "code",
   "execution_count": 30,
   "metadata": {},
   "outputs": [],
   "source": [
    "#URL of NASA Mars News Site\n",
    "url1 = '''https://mars.nasa.gov/news/?page=0&per_page=40&order=publish_date+desc%2Ccreated_at+desc&search=&category=\n",
    "19%2C165%2C184%2C204&blank_scope=Latest'''\n",
    "\n",
    "browser.visit(url)"
   ]
  },
  {
   "cell_type": "code",
   "execution_count": 31,
   "metadata": {},
   "outputs": [],
   "source": [
    "#HTML object\n",
    "html1 = browser.html\n",
    "\n",
    "#Parse HTML with BeautifulSoup\n",
    "soup1 = BeautifulSoup(html1, 'html.parser')"
   ]
  },
  {
   "cell_type": "code",
   "execution_count": 32,
   "metadata": {},
   "outputs": [
    {
     "name": "stdout",
     "output_type": "stream",
     "text": [
      "<div class=\"list_text\"><div class=\"list_date\">August 21, 2020</div><div class=\"content_title\"><a href=\"/news/8742/follow-nasas-perseverance-rover-in-real-time-on-its-way-to-mars/\" target=\"_self\">Follow NASA's Perseverance Rover in Real Time on Its Way to Mars</a></div><div class=\"article_teaser_body\">A crisply rendered web application can show you where the agency's Mars 2020 mission is right now as it makes its way to the Red Planet for a Feb. 18, 2021, landing.</div></div>\n"
     ]
    }
   ],
   "source": [
    "#Retrieve first article\n",
    "first_art = soup1.find('div', class_= 'list_text')\n",
    "print(first_art)"
   ]
  },
  {
   "cell_type": "code",
   "execution_count": 33,
   "metadata": {},
   "outputs": [
    {
     "name": "stdout",
     "output_type": "stream",
     "text": [
      "Follow NASA's Perseverance Rover in Real Time on Its Way to Mars\n",
      "-----\n",
      "A crisply rendered web application can show you where the agency's Mars 2020 mission is right now as it makes its way to the Red Planet for a Feb. 18, 2021, landing.\n"
     ]
    }
   ],
   "source": [
    "#Use Beautiful Soup's find() method to navigate and retrieve attributes\n",
    "\n",
    "news_title = first_art.find('a').text\n",
    "print(news_title)\n",
    "\n",
    "print('-----')\n",
    "\n",
    "news_p = soup1.find('div', class_= 'article_teaser_body').text\n",
    "print(news_p)"
   ]
  },
  {
   "cell_type": "markdown",
   "metadata": {},
   "source": [
    "JPL Mars Space Images - Featured Image"
   ]
  },
  {
   "cell_type": "code",
   "execution_count": 35,
   "metadata": {},
   "outputs": [],
   "source": [
    "#URL of JPL Mars Space Images Site\n",
    "url2 = '''https://www.jpl.nasa.gov/spaceimages/?search=&category=Mars'''\n",
    "\n",
    "browser.visit(url)"
   ]
  },
  {
   "cell_type": "code",
   "execution_count": 36,
   "metadata": {},
   "outputs": [],
   "source": [
    "#HTML object\n",
    "html2 = browser.html\n",
    "\n",
    "#Parse HTML with BeautifulSoup\n",
    "soup2 = BeautifulSoup(html2, 'html.parser')"
   ]
  },
  {
   "cell_type": "code",
   "execution_count": 60,
   "metadata": {},
   "outputs": [
    {
     "ename": "AttributeError",
     "evalue": "'NoneType' object has no attribute 'text'",
     "output_type": "error",
     "traceback": [
      "\u001b[1;31m---------------------------------------------------------------------------\u001b[0m",
      "\u001b[1;31mAttributeError\u001b[0m                            Traceback (most recent call last)",
      "\u001b[1;32m<ipython-input-60-9e7547590012>\u001b[0m in \u001b[0;36m<module>\u001b[1;34m\u001b[0m\n\u001b[1;32m----> 1\u001b[1;33m \u001b[0mimage_url\u001b[0m \u001b[1;33m=\u001b[0m \u001b[0msoup2\u001b[0m\u001b[1;33m.\u001b[0m\u001b[0mfind\u001b[0m\u001b[1;33m(\u001b[0m\u001b[1;34m'article'\u001b[0m\u001b[1;33m,\u001b[0m \u001b[1;33m{\u001b[0m\u001b[1;34m\"style = background-image: url('/spaceimages/images/wallpaper/PIA12826-1920x1200.jpg')\"\u001b[0m\u001b[1;33m}\u001b[0m\u001b[1;33m)\u001b[0m\u001b[1;33m.\u001b[0m\u001b[0mtext\u001b[0m\u001b[1;33m\u001b[0m\u001b[1;33m\u001b[0m\u001b[0m\n\u001b[0m\u001b[0;32m      2\u001b[0m \u001b[0mprint\u001b[0m\u001b[1;33m(\u001b[0m\u001b[0mimage_url\u001b[0m\u001b[1;33m)\u001b[0m\u001b[1;33m\u001b[0m\u001b[1;33m\u001b[0m\u001b[0m\n",
      "\u001b[1;31mAttributeError\u001b[0m: 'NoneType' object has no attribute 'text'"
     ]
    }
   ],
   "source": [
    "image_url = soup2.find('article', {\"style = background-image: url('/spaceimages/images/wallpaper/PIA12826-1920x1200.jpg')\"})"
   ]
  },
  {
   "cell_type": "code",
   "execution_count": null,
   "metadata": {},
   "outputs": [],
   "source": [
    "<article alt=\"Catching its Tail\" class=\"carousel_item\" style=\"background-image: url('/spaceimages/images/wallpaper/PIA12826-1920x1200.jpg');\">\n",
    "\t\t\t  <div class=\"default floating_text_area ms-layer\">\n",
    "\t\t\t\t<h2 class=\"category_title\">\n",
    "\t\t\t\t  \n",
    "\t\t\t\t</h2>\n",
    "\t\t\t\t<h2 class=\"brand_title\">\n",
    "\t\t\t\t  FEATURED IMAGE\n",
    "\t\t\t\t</h2>\n",
    "\t\t\t\t<h1 class=\"media_feature_title\">\n",
    "\t\t\t\t  Catching its Tail\t\t\t\t</h1>\n",
    "\t\t\t\t<div class=\"description\">\n",
    "\t\t\t\t  \n",
    "\t\t\t\t</div>\n",
    "\t\t\t\t<footer>\n",
    "\t\t\t\t  <a class=\"button fancybox\" data-description=\"A huge storm churning through the atmosphere in Saturn's northern hemisphere overtakes itself as it encircles the planet in this true-color view from NASA's Cassini spacecraft.\" data-fancybox-group=\"images\" data-fancybox-href=\"/spaceimages/images/mediumsize/PIA12826_ip.jpg\" data-link=\"/spaceimages/details.php?id=PIA12826\" data-title=\"Catching its Tail\" id=\"full_image\">\n",
    "\t\t\t\t\tFULL IMAGE\n",
    "\t\t\t\t  </a>\n",
    "\t\t\t\t</footer>\n",
    "\t\t\t  </div>\n",
    "\t\t\t  <div class=\"gradient_container_top\"></div>\n",
    "\t\t\t  <div class=\"gradient_container_bottom\"></div>\n",
    "\t\t\t</article>"
   ]
  }
 ],
 "metadata": {
  "kernelspec": {
   "display_name": "Python [conda env:root] *",
   "language": "python",
   "name": "conda-root-py"
  },
  "language_info": {
   "codemirror_mode": {
    "name": "ipython",
    "version": 3
   },
   "file_extension": ".py",
   "mimetype": "text/x-python",
   "name": "python",
   "nbconvert_exporter": "python",
   "pygments_lexer": "ipython3",
   "version": "3.8.3"
  }
 },
 "nbformat": 4,
 "nbformat_minor": 4
}
